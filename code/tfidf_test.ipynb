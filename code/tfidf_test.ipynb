{
 "cells": [
  {
   "cell_type": "code",
   "execution_count": 1,
   "source": [
    "import pandas as pd\n",
    "import numpy as np\n",
    "# from read_data import train_val_split\n",
    "\n",
    "from sklearn.feature_extraction.text import TfidfTransformer, CountVectorizer, TfidfVectorizer"
   ],
   "outputs": [],
   "metadata": {}
  },
  {
   "cell_type": "code",
   "execution_count": 2,
   "source": [
    "def train_val_split(labels, n_labeled_per_class, unlabeled_per_class, n_labels, seed=0):\n",
    "    \"\"\"Split the original training set into labeled training set, unlabeled training set, development set\n",
    "\n",
    "    Arguments:\n",
    "        labels {list} -- List of labeles for original training set\n",
    "        n_labeled_per_class {int} -- Number of labeled data per class\n",
    "        unlabeled_per_class {int} -- Number of unlabeled data per class\n",
    "        n_labels {int} -- The number of classes\n",
    "\n",
    "    Keyword Arguments:\n",
    "        seed {int} -- [random seed of np.shuffle] (default: {0})\n",
    "\n",
    "    Returns:\n",
    "        [list] -- idx for labeled training set, unlabeled training set, development set\n",
    "    \"\"\"\n",
    "    np.random.seed(seed)\n",
    "    labels = np.array(labels)\n",
    "    train_labeled_idxs = []\n",
    "    train_unlabeled_idxs = []\n",
    "    val_idxs = []\n",
    "\n",
    "    for i in range(n_labels):\n",
    "        idxs = np.where(labels == i)[0]\n",
    "        np.random.shuffle(idxs)\n",
    "        if n_labels == 2:\n",
    "            # IMDB\n",
    "            train_pool = np.concatenate((idxs[:500], idxs[5500:-2000]))\n",
    "            train_labeled_idxs.extend(train_pool[:n_labeled_per_class])\n",
    "            train_unlabeled_idxs.extend(\n",
    "                idxs[500: 500 + 5000])\n",
    "            val_idxs.extend(idxs[-2000:])\n",
    "        elif n_labels == 10:\n",
    "            # DBPedia\n",
    "            train_pool = np.concatenate((idxs[:500], idxs[10500:-2000]))\n",
    "            train_labeled_idxs.extend(train_pool[:n_labeled_per_class])\n",
    "            train_unlabeled_idxs.extend(\n",
    "                idxs[500: 500 + unlabeled_per_class])\n",
    "            val_idxs.extend(idxs[-2000:])\n",
    "        else:\n",
    "            # Yahoo/AG News\n",
    "            train_pool = np.concatenate((idxs[:500], idxs[5500:-2000]))\n",
    "            train_labeled_idxs.extend(train_pool[:n_labeled_per_class])\n",
    "            train_unlabeled_idxs.extend(\n",
    "                idxs[500: 500 + 5000])\n",
    "            val_idxs.extend(idxs[-2000:])\n",
    "    np.random.shuffle(train_labeled_idxs)\n",
    "    np.random.shuffle(train_unlabeled_idxs)\n",
    "    np.random.shuffle(val_idxs)\n",
    "\n",
    "    return train_labeled_idxs, train_unlabeled_idxs, val_idxs\n"
   ],
   "outputs": [],
   "metadata": {}
  },
  {
   "cell_type": "code",
   "execution_count": 5,
   "source": [
    "train_df =  pd.read_csv(\"/Users/pushkar_bhuse/MixText/MixText-LongTail/data/yahoo_answers_csv/train.csv\", header=None)"
   ],
   "outputs": [],
   "metadata": {}
  },
  {
   "cell_type": "code",
   "execution_count": 6,
   "source": [
    "train_df.head()"
   ],
   "outputs": [
    {
     "output_type": "execute_result",
     "data": {
      "text/plain": [
       "   0  1                                                  2\n",
       "0  5  5  why doesn't an optical mouse work on a glass t...\n",
       "1  6  6  what is the best off-road motorcycle trail ? l...\n",
       "2  3  3  what is trans fat? how to reduce that? i heard...\n",
       "3  7  7  how many planes fedex has? i heard that it is ...\n",
       "4  7  7  in the san francisco bay area, does it make se..."
      ],
      "text/html": [
       "<div>\n",
       "<style scoped>\n",
       "    .dataframe tbody tr th:only-of-type {\n",
       "        vertical-align: middle;\n",
       "    }\n",
       "\n",
       "    .dataframe tbody tr th {\n",
       "        vertical-align: top;\n",
       "    }\n",
       "\n",
       "    .dataframe thead th {\n",
       "        text-align: right;\n",
       "    }\n",
       "</style>\n",
       "<table border=\"1\" class=\"dataframe\">\n",
       "  <thead>\n",
       "    <tr style=\"text-align: right;\">\n",
       "      <th></th>\n",
       "      <th>0</th>\n",
       "      <th>1</th>\n",
       "      <th>2</th>\n",
       "    </tr>\n",
       "  </thead>\n",
       "  <tbody>\n",
       "    <tr>\n",
       "      <th>0</th>\n",
       "      <td>5</td>\n",
       "      <td>5</td>\n",
       "      <td>why doesn't an optical mouse work on a glass t...</td>\n",
       "    </tr>\n",
       "    <tr>\n",
       "      <th>1</th>\n",
       "      <td>6</td>\n",
       "      <td>6</td>\n",
       "      <td>what is the best off-road motorcycle trail ? l...</td>\n",
       "    </tr>\n",
       "    <tr>\n",
       "      <th>2</th>\n",
       "      <td>3</td>\n",
       "      <td>3</td>\n",
       "      <td>what is trans fat? how to reduce that? i heard...</td>\n",
       "    </tr>\n",
       "    <tr>\n",
       "      <th>3</th>\n",
       "      <td>7</td>\n",
       "      <td>7</td>\n",
       "      <td>how many planes fedex has? i heard that it is ...</td>\n",
       "    </tr>\n",
       "    <tr>\n",
       "      <th>4</th>\n",
       "      <td>7</td>\n",
       "      <td>7</td>\n",
       "      <td>in the san francisco bay area, does it make se...</td>\n",
       "    </tr>\n",
       "  </tbody>\n",
       "</table>\n",
       "</div>"
      ]
     },
     "metadata": {},
     "execution_count": 6
    }
   ],
   "metadata": {}
  },
  {
   "cell_type": "code",
   "execution_count": 7,
   "source": [
    "train_labels = train_df[0].apply(lambda x: int(x)-1).to_numpy()\n",
    "train_text = train_df[2].to_numpy()\n",
    "\n",
    "n_labels = max(train_labels) + 1"
   ],
   "outputs": [],
   "metadata": {}
  },
  {
   "cell_type": "code",
   "execution_count": 8,
   "source": [
    "# Training the TF-IDF model on 2500 labelled data per class and testing on 5000 unlabelled data per class (total 10 classes)\n",
    "unlabeled_per_class = 5000\n",
    "n_labeled_per_class = 2500\n",
    "\n",
    "train_labeled_idxs, train_unlabeled_idxs, val_idxs = train_val_split(\n",
    "        train_labels, n_labeled_per_class, unlabeled_per_class, n_labels)\n",
    "\n",
    "train, labels = train_text[train_labeled_idxs], train_labels[train_labeled_idxs]\n",
    "\n",
    "unlabelled = train_text[train_unlabeled_idxs]"
   ],
   "outputs": [],
   "metadata": {}
  },
  {
   "cell_type": "code",
   "execution_count": 10,
   "source": [
    "val_df = pd.DataFrame(data = unlabelled, columns = ['text'])\n",
    "train_df = pd.DataFrame(data = train, columns = ['text'])"
   ],
   "outputs": [],
   "metadata": {}
  },
  {
   "cell_type": "code",
   "execution_count": 12,
   "source": [
    "val_df.to_csv(\"val_data_gpt.csv\")\n",
    "train_df.to_csv(\"train_data_gpt.csv\")"
   ],
   "outputs": [],
   "metadata": {}
  },
  {
   "cell_type": "code",
   "execution_count": null,
   "source": [
    "# Training TF-IDF model\n",
    "tfidfvectorizer = TfidfVectorizer(analyzer='word',stop_words= 'english')\n",
    "tfidf_wm = tfidfvectorizer.fit_transform(train)\n",
    "\n",
    "# Fetching features\n",
    "tfidf_tokens = tfidfvectorizer.get_feature_names()\n",
    "\n",
    "# Getting TF-IDF scores on unlabelled data\n",
    "unlabelled_tfidf = tfidfvectorizer.transform(unlabelled)"
   ],
   "outputs": [],
   "metadata": {}
  },
  {
   "cell_type": "code",
   "execution_count": 10,
   "source": [
    "unlabelled_text = pd.DataFrame(data = unlabelled, columns=['text'])\n",
    "unlabelled_text.head()"
   ],
   "outputs": [
    {
     "output_type": "execute_result",
     "data": {
      "text/plain": [
       "                                                text\n",
       "0  who won the sequatchie valley basketball tourn...\n",
       "1  what song is better? u have to answer the ques...\n",
       "2  why are the eastern conference finals always c...\n",
       "3  is reais the currancy of brazil?  when you spe...\n",
       "4  i want to know the scheme of isc board examina..."
      ],
      "text/html": [
       "<div>\n",
       "<style scoped>\n",
       "    .dataframe tbody tr th:only-of-type {\n",
       "        vertical-align: middle;\n",
       "    }\n",
       "\n",
       "    .dataframe tbody tr th {\n",
       "        vertical-align: top;\n",
       "    }\n",
       "\n",
       "    .dataframe thead th {\n",
       "        text-align: right;\n",
       "    }\n",
       "</style>\n",
       "<table border=\"1\" class=\"dataframe\">\n",
       "  <thead>\n",
       "    <tr style=\"text-align: right;\">\n",
       "      <th></th>\n",
       "      <th>text</th>\n",
       "    </tr>\n",
       "  </thead>\n",
       "  <tbody>\n",
       "    <tr>\n",
       "      <th>0</th>\n",
       "      <td>who won the sequatchie valley basketball tourn...</td>\n",
       "    </tr>\n",
       "    <tr>\n",
       "      <th>1</th>\n",
       "      <td>what song is better? u have to answer the ques...</td>\n",
       "    </tr>\n",
       "    <tr>\n",
       "      <th>2</th>\n",
       "      <td>why are the eastern conference finals always c...</td>\n",
       "    </tr>\n",
       "    <tr>\n",
       "      <th>3</th>\n",
       "      <td>is reais the currancy of brazil?  when you spe...</td>\n",
       "    </tr>\n",
       "    <tr>\n",
       "      <th>4</th>\n",
       "      <td>i want to know the scheme of isc board examina...</td>\n",
       "    </tr>\n",
       "  </tbody>\n",
       "</table>\n",
       "</div>"
      ]
     },
     "metadata": {},
     "execution_count": 10
    }
   ],
   "metadata": {}
  },
  {
   "cell_type": "code",
   "execution_count": 13,
   "source": [
    "unlabelled_tfidf_df = pd.DataFrame(data = unlabelled_tfidf.toarray(), columns = tfidf_tokens)\n",
    "unlabelled_tfidf_df.shape"
   ],
   "outputs": [
    {
     "output_type": "execute_result",
     "data": {
      "text/plain": [
       "(50000, 74108)"
      ]
     },
     "metadata": {},
     "execution_count": 13
    }
   ],
   "metadata": {}
  },
  {
   "cell_type": "code",
   "execution_count": 19,
   "source": [
    "# Calculating mean of TF-IDF scores for each sequence \n",
    "mean_vals = np.mean(unlabelled_tfidf_df.to_numpy(), axis = 1)\n",
    "mean_df = pd.DataFrame(data = mean_vals, columns = ['tfidf_mean'])\n",
    "mean_df.head()"
   ],
   "outputs": [
    {
     "output_type": "execute_result",
     "data": {
      "text/plain": [
       "   tfidf_mean\n",
       "0    0.000041\n",
       "1    0.000070\n",
       "2    0.000086\n",
       "3    0.000045\n",
       "4    0.000086"
      ],
      "text/html": [
       "<div>\n",
       "<style scoped>\n",
       "    .dataframe tbody tr th:only-of-type {\n",
       "        vertical-align: middle;\n",
       "    }\n",
       "\n",
       "    .dataframe tbody tr th {\n",
       "        vertical-align: top;\n",
       "    }\n",
       "\n",
       "    .dataframe thead th {\n",
       "        text-align: right;\n",
       "    }\n",
       "</style>\n",
       "<table border=\"1\" class=\"dataframe\">\n",
       "  <thead>\n",
       "    <tr style=\"text-align: right;\">\n",
       "      <th></th>\n",
       "      <th>tfidf_mean</th>\n",
       "    </tr>\n",
       "  </thead>\n",
       "  <tbody>\n",
       "    <tr>\n",
       "      <th>0</th>\n",
       "      <td>0.000041</td>\n",
       "    </tr>\n",
       "    <tr>\n",
       "      <th>1</th>\n",
       "      <td>0.000070</td>\n",
       "    </tr>\n",
       "    <tr>\n",
       "      <th>2</th>\n",
       "      <td>0.000086</td>\n",
       "    </tr>\n",
       "    <tr>\n",
       "      <th>3</th>\n",
       "      <td>0.000045</td>\n",
       "    </tr>\n",
       "    <tr>\n",
       "      <th>4</th>\n",
       "      <td>0.000086</td>\n",
       "    </tr>\n",
       "  </tbody>\n",
       "</table>\n",
       "</div>"
      ]
     },
     "metadata": {},
     "execution_count": 19
    }
   ],
   "metadata": {}
  },
  {
   "cell_type": "code",
   "execution_count": null,
   "source": [
    "# Sorting based on mean TF-IDF scores\n",
    "result_df = pd.concat([unlabelled_text, mean_df], axis = 1)\n",
    "sorted_df = result_df.sort_values(by ='tfidf_mean' )\n",
    "sorted_df.head(20)"
   ],
   "outputs": [],
   "metadata": {}
  },
  {
   "cell_type": "code",
   "execution_count": null,
   "source": [],
   "outputs": [],
   "metadata": {}
  }
 ],
 "metadata": {
  "interpreter": {
   "hash": "40517b14c44482a7f49bc5edbf46341a3d8e200af8fd860c74e635b37a749a0e"
  },
  "kernelspec": {
   "name": "python3",
   "display_name": "Python 3.9.7 64-bit ('mix-env': venv)"
  },
  "language_info": {
   "codemirror_mode": {
    "name": "ipython",
    "version": 3
   },
   "file_extension": ".py",
   "mimetype": "text/x-python",
   "name": "python",
   "nbconvert_exporter": "python",
   "pygments_lexer": "ipython3",
   "version": "3.9.7"
  }
 },
 "nbformat": 4,
 "nbformat_minor": 2
}